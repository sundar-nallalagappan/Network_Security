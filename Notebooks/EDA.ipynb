{
 "cells": [
  {
   "cell_type": "code",
   "execution_count": 2,
   "metadata": {},
   "outputs": [],
   "source": [
    "import pandas as pd\n",
    "import os"
   ]
  },
  {
   "cell_type": "code",
   "execution_count": 8,
   "metadata": {},
   "outputs": [
    {
     "data": {
      "text/plain": [
       "True"
      ]
     },
     "execution_count": 8,
     "metadata": {},
     "output_type": "execute_result"
    }
   ],
   "source": [
    "path = r\"D:\\AI\\Network_Security\\Artifacts\"\n",
    "os.path.isdir(path)"
   ]
  },
  {
   "cell_type": "code",
   "execution_count": 12,
   "metadata": {},
   "outputs": [
    {
     "data": {
      "text/plain": [
       "['08_25_2024_09_03_56',\n",
       " '08_26_2024_11_04_04',\n",
       " '08_26_2024_11_04_58',\n",
       " '08_26_2024_11_05_38',\n",
       " '08_26_2024_11_06_08',\n",
       " '08_26_2024_11_08_14',\n",
       " '08_26_2024_11_08_38',\n",
       " '08_26_2024_11_12_31',\n",
       " '08_26_2024_11_21_57',\n",
       " '08_26_2024_11_22_39',\n",
       " '08_26_2024_11_23_24',\n",
       " '08_26_2024_11_24_25',\n",
       " '08_26_2024_11_25_37',\n",
       " '08_26_2024_11_26_11',\n",
       " '08_26_2024_11_28_48',\n",
       " '08_26_2024_11_29_29',\n",
       " '08_26_2024_11_30_10',\n",
       " '08_26_2024_11_32_15',\n",
       " '09_07_2024_16_29_22',\n",
       " '09_07_2024_16_33_37',\n",
       " '09_07_2024_16_35_12',\n",
       " '09_07_2024_16_37_23',\n",
       " '09_07_2024_17_52_39',\n",
       " '09_07_2024_17_53_17',\n",
       " '09_07_2024_17_54_03',\n",
       " '09_07_2024_17_54_43']"
      ]
     },
     "execution_count": 12,
     "metadata": {},
     "output_type": "execute_result"
    }
   ],
   "source": [
    "os.listdir(path)"
   ]
  },
  {
   "cell_type": "code",
   "execution_count": 3,
   "metadata": {},
   "outputs": [
    {
     "data": {
      "text/plain": [
       "'9072024175443'"
      ]
     },
     "execution_count": 3,
     "metadata": {},
     "output_type": "execute_result"
    }
   ],
   "source": [
    "t = int('09_07_2024_17_54_43')\n",
    "t\n",
    "\n",
    "f\"{t}\""
   ]
  },
  {
   "cell_type": "code",
   "execution_count": 11,
   "metadata": {},
   "outputs": [
    {
     "data": {
      "text/plain": [
       "[8252024090356,\n",
       " 8262024110404,\n",
       " 8262024110458,\n",
       " 8262024110538,\n",
       " 8262024110608,\n",
       " 8262024110814,\n",
       " 8262024110838,\n",
       " 8262024111231,\n",
       " 8262024112157,\n",
       " 8262024112239,\n",
       " 8262024112324,\n",
       " 8262024112425,\n",
       " 8262024112537,\n",
       " 8262024112611,\n",
       " 8262024112848,\n",
       " 8262024112929,\n",
       " 8262024113010,\n",
       " 8262024113215,\n",
       " 9072024162922,\n",
       " 9072024163337,\n",
       " 9072024163512,\n",
       " 9072024163723,\n",
       " 9072024175239,\n",
       " 9072024175317,\n",
       " 9072024175403,\n",
       " 9072024175443]"
      ]
     },
     "execution_count": 11,
     "metadata": {},
     "output_type": "execute_result"
    }
   ],
   "source": [
    "list(map(int, os.listdir(path)))"
   ]
  },
  {
   "cell_type": "code",
   "execution_count": null,
   "metadata": {},
   "outputs": [],
   "source": []
  }
 ],
 "metadata": {
  "kernelspec": {
   "display_name": "Python 3",
   "language": "python",
   "name": "python3"
  },
  "language_info": {
   "codemirror_mode": {
    "name": "ipython",
    "version": 3
   },
   "file_extension": ".py",
   "mimetype": "text/x-python",
   "name": "python",
   "nbconvert_exporter": "python",
   "pygments_lexer": "ipython3",
   "version": "3.10.14"
  }
 },
 "nbformat": 4,
 "nbformat_minor": 2
}
